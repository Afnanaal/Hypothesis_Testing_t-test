{
 "cells": [
  {
   "cell_type": "markdown",
   "metadata": {},
   "source": [
    "# Example: Body fat Percentage (Men vs. Women)"
   ]
  },
  {
   "cell_type": "markdown",
   "metadata": {},
   "source": [
    "## Critical Values "
   ]
  },
  {
   "cell_type": "code",
   "execution_count": 42,
   "metadata": {},
   "outputs": [],
   "source": [
    "import numpy as np\n",
    "from numpy import random \n",
    "from scipy import stats\n",
    "from scipy.stats.distributions import t as tdist"
   ]
  },
  {
   "cell_type": "code",
   "execution_count": 43,
   "metadata": {},
   "outputs": [
    {
     "name": "stdout",
     "output_type": "stream",
     "text": [
      "t.statistic=2.80\n",
      "Degree of freedom: 21\n",
      "critical value=2.08\n",
      "Reject the null hypothesis\n"
     ]
    }
   ],
   "source": [
    "# men body fat\n",
    "group1 = np.array([13.3, 6, 20, 8, 14, 19, 18, 25, 16, 24, 15, 1, 15])\n",
    "# women body fat\n",
    "group2 = np.array([22, 16, 21.7, 21, 30, 26, 12,23.2, 28, 23])\n",
    "\n",
    "t=stats.ttest_ind(a=group1, b=group2, equal_var=True)\n",
    "print('t.statistic={0:.2f}'.format(abs(t.statistic)))\n",
    "\n",
    "df = len(group1) + len(group2) - 2\n",
    "print(\"Degree of freedom:\",df)\n",
    "alpha = 0.05\n",
    "cv = tdist.ppf(1 - alpha/2, df) #Two-tailed test\n",
    "print('critical value={0:.2f}'.format(cv))\n",
    "\n",
    "if abs(t.statistic)>=cv:\n",
    "    print(\"Reject the null hypothesis\")\n",
    "else:\n",
    "    print(\"Accept (fail to reject) the null hypothesis\")"
   ]
  },
  {
   "cell_type": "markdown",
   "metadata": {},
   "source": [
    "## p-value"
   ]
  },
  {
   "cell_type": "code",
   "execution_count": 44,
   "metadata": {},
   "outputs": [
    {
     "name": "stdout",
     "output_type": "stream",
     "text": [
      "The pvalue= 0.01\n",
      "Reject the null hypothesis\n"
     ]
    }
   ],
   "source": [
    "print ('The pvalue= {0:.2f}'.format(t.pvalue))\n",
    "if t.pvalue<alpha:\n",
    "    print(\"Reject the null hypothesis\")\n",
    "else:\n",
    "    print(\"Accept the null hypothesis\") "
   ]
  },
  {
   "cell_type": "markdown",
   "metadata": {},
   "source": [
    "### Left-tailed test"
   ]
  },
  {
   "cell_type": "code",
   "execution_count": 45,
   "metadata": {},
   "outputs": [
    {
     "name": "stdout",
     "output_type": "stream",
     "text": [
      "critical value=-1.72\n",
      "Accept (fail to reject) the null hypothesis\n"
     ]
    }
   ],
   "source": [
    "#find critical value\n",
    "cv = tdist.ppf( alpha, df) #left-tailed test \n",
    "print('critical value={0:.2f}'.format(cv))\n",
    "\n",
    "if abs(t.statistic)<cv:\n",
    "    print(\"Reject the null hypothesis\")\n",
    "else:\n",
    "    print(\"Accept (fail to reject) the null hypothesis\")\n",
    "    \n",
    "\n",
    "       "
   ]
  },
  {
   "cell_type": "markdown",
   "metadata": {},
   "source": [
    "### Right-tailed test "
   ]
  },
  {
   "cell_type": "code",
   "execution_count": 46,
   "metadata": {},
   "outputs": [
    {
     "name": "stdout",
     "output_type": "stream",
     "text": [
      "critical value=1.72\n",
      "Reject the null hypothesis\n"
     ]
    }
   ],
   "source": [
    "cv = tdist.ppf(1 - alpha, df) #Right-tailed test \n",
    "print('critical value={0:.2f}'.format(cv))\n",
    "\n",
    "if abs(t.statistic)>cv:\n",
    "    print(\"Reject the null hypothesis\")\n",
    "else:\n",
    "    print(\"Accept (fail to reject) the null hypothesis\")\n",
    "    "
   ]
  },
  {
   "cell_type": "code",
   "execution_count": null,
   "metadata": {},
   "outputs": [],
   "source": []
  }
 ],
 "metadata": {
  "kernelspec": {
   "display_name": "Python 3 (ipykernel)",
   "language": "python",
   "name": "python3"
  },
  "language_info": {
   "codemirror_mode": {
    "name": "ipython",
    "version": 3
   },
   "file_extension": ".py",
   "mimetype": "text/x-python",
   "name": "python",
   "nbconvert_exporter": "python",
   "pygments_lexer": "ipython3",
   "version": "3.9.7"
  }
 },
 "nbformat": 4,
 "nbformat_minor": 4
}
